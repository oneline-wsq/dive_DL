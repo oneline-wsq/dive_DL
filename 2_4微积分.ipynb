{
 "cells": [
  {
   "cell_type": "markdown",
   "metadata": {},
   "source": [
    "# 2.4.6 练习"
   ]
  },
  {
   "cell_type": "markdown",
   "metadata": {},
   "source": [
    "代码参考：\n",
    "https://blog.csdn.net/qlbfa/article/details/107558464"
   ]
  },
  {
   "cell_type": "markdown",
   "metadata": {},
   "source": [
    "1. 绘制函数y=f(x)=x^3-1/x和其在x=1处切线的图像"
   ]
  },
  {
   "cell_type": "code",
   "execution_count": 4,
   "metadata": {},
   "outputs": [
    {
     "data": {
      "image/png": "[encoded data removed]",
      "text/plain": [
       "<Figure size 432x288 with 1 Axes>"
      ]
     },
     "metadata": {},
     "output_type": "display_data"
    }
   ],
   "source": [
    "import numpy as np\n",
    "import matplotlib.pyplot as plt\n",
    "\n",
    "def f(x):\n",
    "    return x**3-1/x\n",
    "def numrical_lim(f,x): # 求微分\n",
    "    h=1e-4\n",
    "    return (f(x+h)-f(x))/h\n",
    "# 求切线\n",
    "def tangent_line(f,x):\n",
    "    k=numrical_lim(f,x)\n",
    "    b=f(x)-k*x\n",
    "    # 使用Lambda匿名函数，t是形参，“:”后是要执行的函数表达式\n",
    "    return lambda t:k*t+b \n",
    "\n",
    "\n",
    "x=np.arange(0.1,3,0.1) \n",
    "y=f(x)\n",
    "plt.xlabel(\"x\")\n",
    "plt.ylabel(\"f(x)\")\n",
    "# 把函数作为形参传入函数中时，只要函数名就好。\n",
    "tf=tangent_line(f,1)\n",
    "# 因为tf返回的是lambda函数，所以要多调一次函数\n",
    "y2=tf(x)\n",
    "plt.plot(x,y)\n",
    "plt.plot(x,y2)\n",
    "plt.show()\n"
   ]
  },
  {
   "cell_type": "markdown",
   "metadata": {},
   "source": [
    "2. 求函数 $$f(\\mathbf{x}) = 3x_1^2 + 5e^{x_2}$$ 的梯度\n"
   ]
  },
  {
   "cell_type": "code",
   "execution_count": 9,
   "metadata": {},
   "outputs": [
    {
     "name": "stdout",
     "output_type": "stream",
     "text": [
      "[6.0003     5.00025001]\n"
     ]
    }
   ],
   "source": [
    "import math\n",
    "def numrical_gradient(f,x): # 求偏导\n",
    "    h=1e-4\n",
    "    # grad初始化为0的array\n",
    "    grad=np.zeros_like(x)\n",
    "    for idx in range(x.size):\n",
    "        # 计算f(x)\n",
    "        fxh2=f(x)\n",
    "        # 获得输入array的值\n",
    "        tmp_val=x[idx]\n",
    "        # f(x+h)的计算\n",
    "        x[idx]=tmp_val+h\n",
    "        # 加0.0001后的x带入上面的fun2得到值\n",
    "        fxh1=f(x)\n",
    "        # 计算微分\n",
    "        grad[idx]=(fxh1-fxh2)/(h)\n",
    "        x[idx]=tmp_val # 还原值\n",
    "\n",
    "    return grad\n",
    "\n",
    "def f2(x):\n",
    "    return 3*x[0]**2+5*math.exp(x[1])\n",
    "\n",
    "print(numrical_gradient(f2,np.array([1.0,0.0]))) # 注意要加.0，不然为整数，+0.0001后还是为0\n",
    "\n"
   ]
  },
  {
   "cell_type": "markdown",
   "metadata": {},
   "source": []
  }
 ],
 "metadata": {
  "interpreter": {
   "hash": "4905652b14e4b7eb92899b78ac499a22c488804455b27940a322fd82aaf71031"
  },
  "kernelspec": {
   "display_name": "Python 3.8.8 64-bit ('base': conda)",
   "language": "python",
   "name": "python3"
  },
  "language_info": {
   "codemirror_mode": {
    "name": "ipython",
    "version": 3
   },
   "file_extension": ".py",
   "mimetype": "text/x-python",
   "name": "python",
   "nbconvert_exporter": "python",
   "pygments_lexer": "ipython3",
   "version": "3.8.8"
  },
  "orig_nbformat": 4
 },
 "nbformat": 4,
 "nbformat_minor": 2
}
