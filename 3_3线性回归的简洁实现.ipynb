{
 "cells": [
  {
   "cell_type": "code",
   "execution_count": 1,
   "metadata": {},
   "outputs": [
    {
     "data": {
      "text/plain": [
       "'定义模型'"
      ]
     },
     "execution_count": 1,
     "metadata": {},
     "output_type": "execute_result"
    }
   ],
   "source": [
    "import numpy as np\n",
    "import torch\n",
    "from torch.utils import data\n",
    "from d2l import torch as d2l\n",
    "\n",
    "true_w = torch.tensor([2, -3.4])\n",
    "true_b = 4.2\n",
    "features, labels = d2l.synthetic_data(true_w, true_b, 1000) # Generate y = Xw + b + noise.\n",
    "\n",
    "\"\"\"读取数据集\"\"\"\n",
    "batch_size=10\n",
    "data_iter=d2l.load_array((features,labels),batch_size)\n",
    "\n",
    "# 读取并打印第一小批量样本\n",
    "next(iter(data_iter))\n",
    "\n",
    "\"\"\"定义模型\"\"\"\n"
   ]
  },
  {
   "cell_type": "markdown",
   "metadata": {},
   "source": [
    "我们首先定义一个模型变量net，它是一个sequential类的实例。Sequential类将多个层串联在一起。 当给定输入数据时，Sequential实例将数据传入到第一层， 然后将第一层的输出作为第二层的输入，以此类推。 在下面的例子中，我们的模型只包含一个层，因此实际上不需要Sequential。 但是由于以后几乎所有的模型都是多层的，在这里使用Sequential会让你熟悉“标准的流水线”。"
   ]
  },
  {
   "cell_type": "markdown",
   "metadata": {},
   "source": [
    "在pytorch中，全连接层在Linear类中定义。值得注意的是，我们将两个参数传递到nn.Linear中。第一个指定输入特征形状，即2，第二个指定输出特征形状，输出特征形状为单个标量，因此为1."
   ]
  },
  {
   "cell_type": "code",
   "execution_count": 2,
   "metadata": {},
   "outputs": [],
   "source": [
    "# nn是神经网络的缩写\n",
    "from torch import nn\n",
    "\n",
    "net=nn.Sequential(nn.Linear(2,1))"
   ]
  },
  {
   "cell_type": "code",
   "execution_count": 3,
   "metadata": {},
   "outputs": [
    {
     "name": "stdout",
     "output_type": "stream",
     "text": [
      "epoch 1, loss 0.000395\n",
      "epoch 2, loss 0.000098\n",
      "epoch 3, loss 0.000099\n",
      "w的估计误差： tensor([-5.9366e-05, -3.6240e-04])\n",
      "b的估计误差： tensor([0.0011])\n"
     ]
    }
   ],
   "source": [
    "\n",
    "\"\"\"初始化模型参数\"\"\"\n",
    "net[0].weight.data.normal_(0,0.01)\n",
    "net[0].bias.data.fill_(0)\n",
    "\n",
    "\"\"\"定义损失函数\"\"\"\n",
    "# MSELoss类\n",
    "loss=nn.MSELoss() # 均方误差，默认情况下，它返回所有样本损失的平均值。\n",
    "\n",
    "\"\"\"定义优化算法\"\"\"\n",
    "# SGD:stochastic gradient descent 随机梯度下降\n",
    "trainer=torch.optim.SGD(net.parameters(),lr=0.03)\n",
    "# 当我们实例化一个SGD实例时，\n",
    "# 我们要指定优化的参数 \n",
    "# （可通过net.parameters()从我们的模型中获得）\n",
    "# 以及优化算法所需的超参数字典。 \n",
    "# 小批量随机梯度下降只需要设置lr值，这里设置为0.03。\n",
    "\n",
    "\"\"\"训练\"\"\"\n",
    "num_epochs=3\n",
    "for epoch in range(num_epochs):\n",
    "    for X, y in data_iter:\n",
    "        l=loss(net(X),y) # 通过调用net(X)生成预测并计算损失l(前向传播)\n",
    "        trainer.zero_grad() # 梯度清零\n",
    "        l.backward()\n",
    "        trainer.step() # 使用的是参数空间对应的梯度\n",
    "    l=loss(net(features),labels)\n",
    "    print(f'epoch {epoch + 1}, loss {l:f}')\n",
    "\n",
    "w = net[0].weight.data\n",
    "print('w的估计误差：', true_w - w.reshape(true_w.shape))\n",
    "b = net[0].bias.data\n",
    "print('b的估计误差：', true_b - b)"
   ]
  }
 ],
 "metadata": {
  "interpreter": {
   "hash": "4905652b14e4b7eb92899b78ac499a22c488804455b27940a322fd82aaf71031"
  },
  "kernelspec": {
   "display_name": "Python 3.8.8 64-bit ('base': conda)",
   "language": "python",
   "name": "python3"
  },
  "language_info": {
   "codemirror_mode": {
    "name": "ipython",
    "version": 3
   },
   "file_extension": ".py",
   "mimetype": "text/x-python",
   "name": "python",
   "nbconvert_exporter": "python",
   "pygments_lexer": "ipython3",
   "version": "3.8.8"
  },
  "orig_nbformat": 4
 },
 "nbformat": 4,
 "nbformat_minor": 2
}
