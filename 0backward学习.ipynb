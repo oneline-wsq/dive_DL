{
 "cells": [
  {
   "cell_type": "code",
   "execution_count": 4,
   "metadata": {},
   "outputs": [
    {
     "name": "stdout",
     "output_type": "stream",
     "text": [
      "input:\n",
      "tensor([2., 3.])\n",
      "output:\n",
      "16.5\n",
      "input gradients are\n",
      "tensor([1.5000, 1.5000])\n"
     ]
    }
   ],
   "source": [
    "import torch\n",
    "from torch.autograd import Variable\n",
    "\n",
    "a=Variable(torch.Tensor([2,3]),requires_grad=True)\n",
    "b=a+3\n",
    "c=b*3\n",
    "out=c.mean()\n",
    "out.backward()      # 对a求导\n",
    "print('input:')\n",
    "print(a.data)\n",
    "print('output:')\n",
    "print(out.data.item()) # 计算（5+6）*3/2=16.5\n",
    "print('input gradients are')\n",
    "print(a.grad)"
   ]
  },
  {
   "cell_type": "code",
   "execution_count": 13,
   "metadata": {},
   "outputs": [
    {
     "name": "stdout",
     "output_type": "stream",
     "text": [
      "jacobian matrix is:\n",
      "tensor([[ 8.,  2.],\n",
      "        [ 4., 96.]])\n"
     ]
    }
   ],
   "source": [
    "import torch\n",
    "from torch.autograd import Variable\n",
    "import copy\n",
    "a=Variable(torch.FloatTensor([[2.,4.]]),requires_grad=True)\n",
    "b=torch.zeros(1,2)\n",
    "b[0,0]=a[0,0]**2+a[0,1]\n",
    "b[0,1]=a[0,1]**3+2*a[0,0]\n",
    "out=2*b\n",
    "# 其参数要传入和out维度一样的矩阵\n",
    "out.backward(torch.FloatTensor([[1,0]]),retain_graph=True)\n",
    "A_temp=copy.deepcopy(a.grad)\n",
    "a.grad.zero_()\n",
    "out.backward(torch.FloatTensor([[0,1]]))\n",
    "B_temp=a.grad\n",
    "print('jacobian matrix is:')\n",
    "print(torch.cat((A_temp,B_temp),0))\n"
   ]
  },
  {
   "cell_type": "code",
   "execution_count": null,
   "metadata": {},
   "outputs": [],
   "source": []
  }
 ],
 "metadata": {
  "interpreter": {
   "hash": "4905652b14e4b7eb92899b78ac499a22c488804455b27940a322fd82aaf71031"
  },
  "kernelspec": {
   "display_name": "Python 3.8.8 ('base')",
   "language": "python",
   "name": "python3"
  },
  "language_info": {
   "codemirror_mode": {
    "name": "ipython",
    "version": 3
   },
   "file_extension": ".py",
   "mimetype": "text/x-python",
   "name": "python",
   "nbconvert_exporter": "python",
   "pygments_lexer": "ipython3",
   "version": "3.8.8"
  },
  "orig_nbformat": 4
 },
 "nbformat": 4,
 "nbformat_minor": 2
}
