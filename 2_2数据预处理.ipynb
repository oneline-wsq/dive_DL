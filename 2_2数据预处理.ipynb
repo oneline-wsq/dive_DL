{
 "cells": [
  {
   "cell_type": "markdown",
   "metadata": {},
   "source": [
    "在python中常用的数据分析工具中，我们通常使用pandas软件包。"
   ]
  },
  {
   "cell_type": "markdown",
   "metadata": {},
   "source": [
    "# 2.2.1 读取数据集"
   ]
  },
  {
   "cell_type": "markdown",
   "metadata": {},
   "source": [
    "首先创建一个人工数据集，并存储在CSV文件../data/house_tiny.csv中。以其他格式存储的数据也可以通过类似的方式进行处理。下面我们将数据集按行写入CSV文件中。"
   ]
  },
  {
   "cell_type": "code",
   "execution_count": 1,
   "metadata": {},
   "outputs": [],
   "source": [
    "import os\n",
    "os.makedirs(os.path.join('..','data'),exist_ok=True)\n",
    "data_file=os.path.join('..','data','house_tiny.csv')\n",
    "with open(data_file,'w') as f: # w:\t打开一个文件只用于写入。如果该文件已存在则将其覆盖。如果该文件不存在，创建新文件。\n",
    "    f.write('NumRooms,Alley,Price\\n') # 列名\n",
    "    f.write('NA,Pave,127500\\n') # 每行表示一个数据样本\n",
    "    f.write('2,NA,106000\\n')\n",
    "    f.write('4,NA,178100\\n')\n",
    "    f.write('NA,NA,140000\\n')"
   ]
  },
  {
   "cell_type": "markdown",
   "metadata": {},
   "source": [
    "要从创建的CSV文件中加载原始数据集，我们导入pandas包并调用read_csv函数。该数据集有四行三列。其中每行描述了房间数量、巷子类型和房屋价格。"
   ]
  },
  {
   "cell_type": "code",
   "execution_count": 2,
   "metadata": {},
   "outputs": [
    {
     "name": "stdout",
     "output_type": "stream",
     "text": [
      "   NumRooms Alley   Price\n",
      "0       NaN  Pave  127500\n",
      "1       2.0   NaN  106000\n",
      "2       4.0   NaN  178100\n",
      "3       NaN   NaN  140000\n"
     ]
    }
   ],
   "source": [
    "import pandas as pd\n",
    "\n",
    "data=pd.read_csv(data_file)\n",
    "print(data)"
   ]
  },
  {
   "cell_type": "markdown",
   "metadata": {},
   "source": [
    "# 2.2.2 处理缺失值\n",
    "\"NaN\"项代表缺失值。为了处理缺失的数据，典型的方法包括插值法和删除法，其中插值法用一个替代值弥补缺失值，而删除法则直接忽略缺失值。在这里，我们将考虑插值法。"
   ]
  },
  {
   "cell_type": "markdown",
   "metadata": {},
   "source": [
    "通过位置索引iloc，我们将data分为inputs和outputs，其中前者为data的前两列，而后者为data的最后一列。对于inputs中缺少的数值，我们用同一列的均值替换\"NaN\"项。"
   ]
  },
  {
   "cell_type": "code",
   "execution_count": 3,
   "metadata": {},
   "outputs": [
    {
     "name": "stdout",
     "output_type": "stream",
     "text": [
      "   NumRooms Alley\n",
      "0       3.0  Pave\n",
      "1       2.0   NaN\n",
      "2       4.0   NaN\n",
      "3       3.0   NaN\n"
     ]
    }
   ],
   "source": [
    "inputs,outputs=data.iloc[:,0:2],data.iloc[:,2]\n",
    "inputs=inputs.fillna(inputs.mean())\n",
    "print(inputs)"
   ]
  },
  {
   "cell_type": "markdown",
   "metadata": {},
   "source": [
    "对于inputs中的类别值或离散值，我们将\"NaN\"视为一个类别。由于“巷子类型”列只接受两种类型的类别值\"Pave\"和\"NaN\"，pandas可以自动将此列转换为两列“Alley_Pave”和“Alley_nan”。 巷子类型为“Pave”的行会将“Alley_Pave”的值设置为1，“Alley_nan”的值设置为0。 缺少巷子类型的行会将“Alley_Pave”和“Alley_nan”分别设置为0和1。"
   ]
  },
  {
   "cell_type": "code",
   "execution_count": 4,
   "metadata": {},
   "outputs": [
    {
     "name": "stdout",
     "output_type": "stream",
     "text": [
      "   NumRooms  Alley_Pave  Alley_nan\n",
      "0       3.0           1          0\n",
      "1       2.0           0          1\n",
      "2       4.0           0          1\n",
      "3       3.0           0          1\n"
     ]
    }
   ],
   "source": [
    "inputs=pd.get_dummies(inputs,dummy_na=True) # get_dummies方法主要用于对类别型特征做One-Hot编码（独热编码）\n",
    "# dummy_na=True：增加一列表示空缺值，如果False就忽略空缺值\n",
    "print(inputs)"
   ]
  },
  {
   "cell_type": "markdown",
   "metadata": {},
   "source": [
    "# 2.2.3 转换为张量格式\n"
   ]
  },
  {
   "cell_type": "code",
   "execution_count": 5,
   "metadata": {},
   "outputs": [
    {
     "data": {
      "text/plain": [
       "(tensor([[3., 1., 0.],\n",
       "         [2., 0., 1.],\n",
       "         [4., 0., 1.],\n",
       "         [3., 0., 1.]], dtype=torch.float64),\n",
       " tensor([127500, 106000, 178100, 140000]))"
      ]
     },
     "execution_count": 5,
     "metadata": {},
     "output_type": "execute_result"
    }
   ],
   "source": [
    "import torch\n",
    "\n",
    "X,y=torch.tensor(inputs.values),torch.tensor(outputs.values)\n",
    "X,y"
   ]
  },
  {
   "cell_type": "markdown",
   "metadata": {},
   "source": [
    "# 2.2.5 练习"
   ]
  },
  {
   "cell_type": "markdown",
   "metadata": {},
   "source": [
    "创建包含更多行和列的原始数据集。\n",
    "1. 删除缺失值最多的列\n",
    "2. 将预处理后的数据集转换为张量格式"
   ]
  },
  {
   "cell_type": "code",
   "execution_count": 34,
   "metadata": {},
   "outputs": [],
   "source": [
    "with open(data_file,'w') as f:\n",
    "    f.write('NumRooms,Alley,Ceil,traffic,Price\\n') # 列名\n",
    "    f.write('NA,Pave,NA,Good,127500\\n') # 每行表示一个数据样本\n",
    "    f.write('2,NA,a,NA,106000\\n')\n",
    "    f.write('4,NA,b,NA,178100\\n')\n",
    "    f.write('NA,NA,b,NA,110000\\n')\n",
    "    f.write('NA,Pave,c,NA,340000\\n')"
   ]
  },
  {
   "cell_type": "code",
   "execution_count": 36,
   "metadata": {},
   "outputs": [
    {
     "name": "stdout",
     "output_type": "stream",
     "text": [
      "   NumRooms Alley Ceil traffic   Price\n",
      "0       NaN  Pave  NaN    Good  127500\n",
      "1       2.0   NaN    a     NaN  106000\n",
      "2       4.0   NaN    b     NaN  178100\n",
      "3       NaN   NaN    b     NaN  110000\n",
      "4       NaN  Pave    c     NaN  340000\n"
     ]
    }
   ],
   "source": [
    "data=pd.read_csv(data_file)\n",
    "print(data)"
   ]
  },
  {
   "cell_type": "code",
   "execution_count": 37,
   "metadata": {},
   "outputs": [
    {
     "name": "stdout",
     "output_type": "stream",
     "text": [
      "   NumRooms Alley Ceil traffic\n",
      "0       NaN  Pave  NaN    Good\n",
      "1       2.0   NaN    a     NaN\n",
      "2       4.0   NaN    b     NaN\n",
      "3       NaN   NaN    b     NaN\n",
      "4       NaN  Pave    c     NaN\n"
     ]
    }
   ],
   "source": [
    "inputs,outputs=data.iloc[:,0:4],data.iloc[:,4]\n",
    "print(inputs)"
   ]
  },
  {
   "cell_type": "code",
   "execution_count": 38,
   "metadata": {},
   "outputs": [
    {
     "name": "stdout",
     "output_type": "stream",
     "text": [
      "   NumRooms Alley Ceil\n",
      "0       NaN  Pave  NaN\n",
      "1       2.0   NaN    a\n",
      "2       4.0   NaN    b\n",
      "3       NaN   NaN    b\n",
      "4       NaN  Pave    c\n"
     ]
    }
   ],
   "source": [
    "# data 是通过 pandas.read_csv() 读入的数据\n",
    "inputs2 = inputs.drop(columns=inputs.isna().sum(axis=0).idxmax())  # axis=0表示缺失值最多的“列”\n",
    "print(inputs2)"
   ]
  },
  {
   "cell_type": "code",
   "execution_count": 40,
   "metadata": {},
   "outputs": [
    {
     "name": "stdout",
     "output_type": "stream",
     "text": [
      "   NumRooms  Alley_Pave  Alley_nan  Ceil_a  Ceil_b  Ceil_c  Ceil_nan\n",
      "0       3.0           1          0       0       0       0         1\n",
      "1       2.0           0          1       1       0       0         0\n",
      "2       4.0           0          1       0       1       0         0\n",
      "3       3.0           0          1       0       1       0         0\n",
      "4       3.0           1          0       0       0       1         0\n"
     ]
    },
    {
     "data": {
      "text/plain": [
       "(tensor([[3., 1., 0., 0., 0., 0., 1.],\n",
       "         [2., 0., 1., 1., 0., 0., 0.],\n",
       "         [4., 0., 1., 0., 1., 0., 0.],\n",
       "         [3., 0., 1., 0., 1., 0., 0.],\n",
       "         [3., 1., 0., 0., 0., 1., 0.]], dtype=torch.float64),\n",
       " tensor([127500, 106000, 178100, 110000, 340000]))"
      ]
     },
     "execution_count": 40,
     "metadata": {},
     "output_type": "execute_result"
    }
   ],
   "source": [
    "# 将预处理后的数据集转换为张量格式\n",
    "target=torch.tensor(outputs.values)\n",
    "\n",
    "inputs=pd.get_dummies(inputs2,dummy_na=True) # 只会拆分非数值类的\n",
    "inputs=inputs.fillna(inputs.mean())\n",
    "print(inputs)\n",
    "\n",
    "inputs=torch.tensor(inputs.values)\n",
    "inputs,target"
   ]
  },
  {
   "cell_type": "code",
   "execution_count": null,
   "metadata": {},
   "outputs": [],
   "source": []
  }
 ],
 "metadata": {
  "interpreter": {
   "hash": "4905652b14e4b7eb92899b78ac499a22c488804455b27940a322fd82aaf71031"
  },
  "kernelspec": {
   "display_name": "Python 3.8.8 64-bit ('base': conda)",
   "language": "python",
   "name": "python3"
  },
  "language_info": {
   "codemirror_mode": {
    "name": "ipython",
    "version": 3
   },
   "file_extension": ".py",
   "mimetype": "text/x-python",
   "name": "python",
   "nbconvert_exporter": "python",
   "pygments_lexer": "ipython3",
   "version": "3.8.8"
  },
  "orig_nbformat": 4
 },
 "nbformat": 4,
 "nbformat_minor": 2
}
